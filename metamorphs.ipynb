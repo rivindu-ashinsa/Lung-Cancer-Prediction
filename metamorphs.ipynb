{
 "cells": [
  {
   "cell_type": "markdown",
   "metadata": {},
   "source": [
    "# **Lung Cancer Detection**"
   ]
  },
  {
   "cell_type": "code",
   "execution_count": 2,
   "metadata": {
    "trusted": true
   },
   "outputs": [],
   "source": [
    "import pandas as pd"
   ]
  },
  {
   "cell_type": "markdown",
   "metadata": {},
   "source": [
    "## Loading the Dataset"
   ]
  },
  {
   "cell_type": "code",
   "execution_count": 36,
   "metadata": {
    "execution": {
     "iopub.execute_input": "2025-07-14T14:44:17.905493Z",
     "iopub.status.busy": "2025-07-14T14:44:17.904765Z",
     "iopub.status.idle": "2025-07-14T14:44:21.725346Z",
     "shell.execute_reply": "2025-07-14T14:44:21.724765Z",
     "shell.execute_reply.started": "2025-07-14T14:44:17.905468Z"
    },
    "trusted": true
   },
   "outputs": [],
   "source": [
    "df_train = pd.read_csv(\"train.csv\")\n",
    "df_test = pd.read_csv(\"test.csv\")"
   ]
  },
  {
   "cell_type": "markdown",
   "metadata": {},
   "source": [
    "## Data exploration"
   ]
  },
  {
   "cell_type": "code",
   "execution_count": null,
   "metadata": {
    "trusted": true
   },
   "outputs": [],
   "source": [
    "df_train.isna().sum()"
   ]
  },
  {
   "cell_type": "code",
   "execution_count": null,
   "metadata": {
    "trusted": true
   },
   "outputs": [],
   "source": [
    "df_test.isna().sum()"
   ]
  },
  {
   "cell_type": "code",
   "execution_count": null,
   "metadata": {
    "trusted": true
   },
   "outputs": [],
   "source": []
  },
  {
   "cell_type": "code",
   "execution_count": null,
   "metadata": {
    "trusted": true
   },
   "outputs": [],
   "source": [
    "df_train.describe()"
   ]
  },
  {
   "cell_type": "code",
   "execution_count": null,
   "metadata": {
    "trusted": true
   },
   "outputs": [],
   "source": [
    "df_test.describe()"
   ]
  },
  {
   "cell_type": "code",
   "execution_count": 4,
   "metadata": {
    "trusted": true
   },
   "outputs": [
    {
     "name": "stdout",
     "output_type": "stream",
     "text": [
      "Survived ratio : 0.2196042196042196 \n",
      "Not survived ratio : 0.7803957803957804\n"
     ]
    }
   ],
   "source": [
    "# Survived to Not Survived Ratio\n",
    "survived = df_train['survival_status'].value_counts()[1]\n",
    "not_survived = df_train['survival_status'].value_counts()[0]\n",
    "\n",
    "survived_ratio = survived/df_train.shape[0]\n",
    "not_survived_ratio =  not_survived/df_train.shape[0]\n",
    "\n",
    "print(f\"Survived ratio : {survived_ratio} \\nNot survived ratio : {not_survived_ratio}\")"
   ]
  },
  {
   "cell_type": "code",
   "execution_count": 5,
   "metadata": {
    "trusted": true
   },
   "outputs": [
    {
     "data": {
      "text/plain": [
       "survival_status\n",
       "0    780395\n",
       "1    219604\n",
       "Name: count, dtype: int64"
      ]
     },
     "execution_count": 5,
     "metadata": {},
     "output_type": "execute_result"
    }
   ],
   "source": [
    "df_train['survival_status'].value_counts()"
   ]
  },
  {
   "cell_type": "markdown",
   "metadata": {
    "execution": {
     "iopub.execute_input": "2025-07-04T13:43:06.471498Z",
     "iopub.status.busy": "2025-07-04T13:43:06.471176Z",
     "iopub.status.idle": "2025-07-04T13:43:06.484624Z",
     "shell.execute_reply": "2025-07-04T13:43:06.483557Z",
     "shell.execute_reply.started": "2025-07-04T13:43:06.471453Z"
    }
   },
   "source": [
    "## Data Pre-processing\n",
    "### Data preprocessing Steps\n",
    "- Filling `cigarattes_per_day` \n",
    "- Columns to encode(Binary) : `family_cancer_history`, `has_other_cancer`, `asthma_diagnosis`, `liver_condition`, `blood_pressure_status`\n",
    "- Columns to encode (OneHot) : `residence_state`, `smoking_status`, `treatment_type`"
   ]
  },
  {
   "cell_type": "code",
   "execution_count": 6,
   "metadata": {
    "execution": {
     "iopub.execute_input": "2025-07-14T14:58:08.024821Z",
     "iopub.status.busy": "2025-07-14T14:58:08.024252Z",
     "iopub.status.idle": "2025-07-14T14:58:08.038896Z",
     "shell.execute_reply": "2025-07-14T14:58:08.038159Z",
     "shell.execute_reply.started": "2025-07-14T14:58:08.024795Z"
    },
    "trusted": true
   },
   "outputs": [],
   "source": [
    "# Importing the necessory Libraries \n",
    "from sklearn.pipeline import Pipeline\n",
    "from sklearn.preprocessing import OneHotEncoder, StandardScaler\n",
    "import pandas as pd\n",
    "from sklearn.base import BaseEstimator, TransformerMixin\n",
    "\n",
    "class ProcessSmoking(BaseEstimator,TransformerMixin):\n",
    "    def fit(self,X,y=None):\n",
    "        return self\n",
    "        # Current Smokers - no NaNs\n",
    "        # Never Smoked - no NaNs\n",
    "        # Former Smokers - no NaNs\n",
    "        # Passive smokers - contain NaNs\n",
    "    def transform(self,X):\n",
    "        X.loc[X['smoking_status'].isin(['Never Smoked', 'Passive Smoker', 'Passive', 'Non Smoker']), 'cigarettes_per_day'] = 0\n",
    "        return X\n",
    "    \n",
    "\n",
    "class ProcessCols(BaseEstimator,TransformerMixin):\n",
    "    def fit(self,X,y=None):\n",
    "        return self\n",
    "\n",
    "    def transform(self,X):\n",
    "        # Encode 'family_cancer_history': Yes → 1, No → 0\n",
    "        X['family_cancer_history'] = X['family_cancer_history'].replace({'Yes': 1, 'No': 0})\n",
    "        \n",
    "        # Encode 'has_other_cancer': Yes → 1, No → 0\n",
    "        X['has_other_cancer'] = X['has_other_cancer'].replace({'Yes': 1, 'No': 0})\n",
    "        \n",
    "        # Encode 'asthma_diagnosis': Yes → 1, No → 0\n",
    "        X['asthma_diagnosis'] = X['asthma_diagnosis'].replace({'Yes': 1, 'No': 0})\n",
    "        \n",
    "        # Clean and encode 'blood_pressure_status'\n",
    "        X['blood_pressure_status'] = X['blood_pressure_status'].replace({\n",
    "            'High Blood Pressure': 1,\n",
    "            'Elevated': 1,\n",
    "            'Normal': 0,\n",
    "            'Normal BP': 0  # Treating 'Normal' and 'Normal BP' as same\n",
    "        })\n",
    "        \n",
    "        # Clean and encode 'liver_condition'\n",
    "        X['liver_condition'] = X['liver_condition'].replace({\n",
    "            'Normal': 0,\n",
    "            'Normal Liver': 0,\n",
    "            'Liver OK': 0,\n",
    "            'No Issue': 0,\n",
    "            'Has Cirrhosis': 1,\n",
    "            'Cirrhos': 1  # Assuming typo or shorthand for cirrhosis\n",
    "        })\n",
    "        X['sex'] = X['sex'].replace({'Male': 1, 'Female': 0})\n",
    "        X['smoking_status'] = X['smoking_status'].replace({\n",
    "            'Current Smoker': 'Current',\n",
    "            'Former Smoker': 'Former',\n",
    "            'Passive Smoker': 'Passive',\n",
    "            'Never Smoked': 'Never',\n",
    "            'Passive': 'Passive',\n",
    "            'Non Smoker': 'Never',\n",
    "            'Former Smk': 'Former'\n",
    "        })\n",
    "        X['treatment_type'] = X['treatment_type'].replace({\n",
    "            'Chemo': 'Chemotherapy',\n",
    "            'Surg': 'Surgery',\n",
    "            'Combo': 'Combined'\n",
    "        })\n",
    "        X = X.drop('residence_state', axis=1)\n",
    "        \n",
    "        return X\n",
    "\n",
    "class EncodeCatCols(BaseEstimator, TransformerMixin):\n",
    "    def __init__(self, columns=['smoking_status', 'treatment_type']):\n",
    "        self.columns = columns\n",
    "        self.encoder = OneHotEncoder(sparse_output=False, handle_unknown='ignore')\n",
    "\n",
    "    def fit(self, X, y=None):\n",
    "        self.encoder.fit(X[self.columns])\n",
    "        return self\n",
    "\n",
    "    def transform(self, X):\n",
    "        encoded = self.encoder.transform(X[self.columns])\n",
    "        \n",
    "        # Get column names from OneHotEncoder\n",
    "        column_names = self.encoder.get_feature_names_out(self.columns)\n",
    "        \n",
    "        # Create DataFrame from encoded matrix\n",
    "        encoded_df = pd.DataFrame(encoded, columns=column_names, index=X.index)\n",
    "        # Drop original categorical columns and join encoded ones\n",
    "        X = X.drop(columns=self.columns)\n",
    "        X = pd.concat([X, encoded_df], axis=1)\n",
    "        \n",
    "        return X\n",
    "\n",
    "\n",
    "class FormatDates(BaseEstimator,TransformerMixin):\n",
    "    def fit(self,X,y=None):\n",
    "        return self\n",
    "\n",
    "    def transform(self,X):\n",
    "        X['treatment_start_date'] = pd.to_datetime(X['treatment_start_date'], errors='coerce')\n",
    "        X['treatment_end_date'] = pd.to_datetime(X['treatment_end_date'], errors='coerce')\n",
    "        X['diagnosis_date'] = pd.to_datetime(X['diagnosis_date'], errors='coerce')\n",
    "        X['treatment_duration'] = (X['treatment_end_date'] - X['treatment_start_date']).dt.days\n",
    "        X['diagnosis_to_treatment_delay'] = (X['treatment_start_date'] - X['diagnosis_date']).dt.days\n",
    "        \n",
    "        X = X.drop(['treatment_end_date', 'treatment_start_date', 'diagnosis_date'], axis=1)\n",
    "        return X\n",
    "\n",
    "class DropUnwantedCols(BaseEstimator,TransformerMixin):\n",
    "    def fit(self,X,y=None):\n",
    "        return self\n",
    "\n",
    "    def transform(self,X):\n",
    "        X = X.drop(['first_name', 'last_name', 'record_id'], axis=1)\n",
    "        return X\n",
    "\n",
    "\n",
    "\n",
    "\n",
    "# Building Data Pre-Processing pipeline\n",
    "data_pipeline = Pipeline([\n",
    "    ('process_smoking', ProcessSmoking()),\n",
    "    ('process_columns', ProcessCols()),\n",
    "    ('format_dates', FormatDates()),\n",
    "    ('encode_categoricals', EncodeCatCols(columns=['smoking_status', 'treatment_type'])),\n",
    "    ('drop_unwanted', DropUnwantedCols()),\n",
    "    ('scaler', StandardScaler())  \n",
    "])\n"
   ]
  },
  {
   "cell_type": "markdown",
   "metadata": {},
   "source": [
    "## Separating Independent Variables (X) and Dependent Variable (y)\n"
   ]
  },
  {
   "cell_type": "code",
   "execution_count": 7,
   "metadata": {
    "trusted": true
   },
   "outputs": [],
   "source": [
    "X = df_train.drop('survival_status', axis=1)\n",
    "y = df_train['survival_status']"
   ]
  },
  {
   "cell_type": "markdown",
   "metadata": {},
   "source": [
    "## Pre-processing data "
   ]
  },
  {
   "cell_type": "code",
   "execution_count": 8,
   "metadata": {
    "trusted": true
   },
   "outputs": [
    {
     "name": "stderr",
     "output_type": "stream",
     "text": [
      "C:\\Users\\User\\AppData\\Local\\Temp\\ipykernel_8896\\863333924.py:25: FutureWarning: Downcasting behavior in `replace` is deprecated and will be removed in a future version. To retain the old behavior, explicitly call `result.infer_objects(copy=False)`. To opt-in to the future behavior, set `pd.set_option('future.no_silent_downcasting', True)`\n",
      "  X['family_cancer_history'] = X['family_cancer_history'].replace({'Yes': 1, 'No': 0})\n",
      "C:\\Users\\User\\AppData\\Local\\Temp\\ipykernel_8896\\863333924.py:28: FutureWarning: Downcasting behavior in `replace` is deprecated and will be removed in a future version. To retain the old behavior, explicitly call `result.infer_objects(copy=False)`. To opt-in to the future behavior, set `pd.set_option('future.no_silent_downcasting', True)`\n",
      "  X['has_other_cancer'] = X['has_other_cancer'].replace({'Yes': 1, 'No': 0})\n",
      "C:\\Users\\User\\AppData\\Local\\Temp\\ipykernel_8896\\863333924.py:31: FutureWarning: Downcasting behavior in `replace` is deprecated and will be removed in a future version. To retain the old behavior, explicitly call `result.infer_objects(copy=False)`. To opt-in to the future behavior, set `pd.set_option('future.no_silent_downcasting', True)`\n",
      "  X['asthma_diagnosis'] = X['asthma_diagnosis'].replace({'Yes': 1, 'No': 0})\n",
      "C:\\Users\\User\\AppData\\Local\\Temp\\ipykernel_8896\\863333924.py:34: FutureWarning: Downcasting behavior in `replace` is deprecated and will be removed in a future version. To retain the old behavior, explicitly call `result.infer_objects(copy=False)`. To opt-in to the future behavior, set `pd.set_option('future.no_silent_downcasting', True)`\n",
      "  X['blood_pressure_status'] = X['blood_pressure_status'].replace({\n",
      "C:\\Users\\User\\AppData\\Local\\Temp\\ipykernel_8896\\863333924.py:42: FutureWarning: Downcasting behavior in `replace` is deprecated and will be removed in a future version. To retain the old behavior, explicitly call `result.infer_objects(copy=False)`. To opt-in to the future behavior, set `pd.set_option('future.no_silent_downcasting', True)`\n",
      "  X['liver_condition'] = X['liver_condition'].replace({\n",
      "C:\\Users\\User\\AppData\\Local\\Temp\\ipykernel_8896\\863333924.py:50: FutureWarning: Downcasting behavior in `replace` is deprecated and will be removed in a future version. To retain the old behavior, explicitly call `result.infer_objects(copy=False)`. To opt-in to the future behavior, set `pd.set_option('future.no_silent_downcasting', True)`\n",
      "  X['sex'] = X['sex'].replace({'Male': 1, 'Female': 0})\n"
     ]
    }
   ],
   "source": [
    "X_transformed = data_pipeline.fit_transform(X)"
   ]
  },
  {
   "cell_type": "code",
   "execution_count": 9,
   "metadata": {
    "trusted": true
   },
   "outputs": [
    {
     "ename": "NameError",
     "evalue": "name 'df_test' is not defined",
     "output_type": "error",
     "traceback": [
      "\u001b[1;31m---------------------------------------------------------------------------\u001b[0m",
      "\u001b[1;31mNameError\u001b[0m                                 Traceback (most recent call last)",
      "Cell \u001b[1;32mIn[9], line 1\u001b[0m\n\u001b[1;32m----> 1\u001b[0m X_test_transformed \u001b[38;5;241m=\u001b[39m data_pipeline\u001b[38;5;241m.\u001b[39mtransform(\u001b[43mdf_test\u001b[49m)\n",
      "\u001b[1;31mNameError\u001b[0m: name 'df_test' is not defined"
     ]
    }
   ],
   "source": [
    "X_test_transformed = data_pipeline.transform(df_test)"
   ]
  },
  {
   "cell_type": "markdown",
   "metadata": {},
   "source": [
    "# Approach - I"
   ]
  },
  {
   "cell_type": "markdown",
   "metadata": {},
   "source": [
    "## Model Building"
   ]
  },
  {
   "cell_type": "code",
   "execution_count": null,
   "metadata": {
    "trusted": true
   },
   "outputs": [],
   "source": [
    "import tensorflow as tf\n",
    "from tensorflow.keras import layers, models, callbacks\n",
    "from sklearn.model_selection import train_test_split\n",
    "from sklearn.preprocessing import StandardScaler\n",
    "from sklearn.metrics import classification_report, roc_auc_score\n",
    "from sklearn.utils import class_weight\n",
    "import numpy as np\n",
    "\n",
    "# 1. Train-test split\n",
    "X_train, X_test, y_train, y_test = train_test_split(X_transformed, y, test_size=0.2, random_state=42, stratify=y)\n",
    "\n",
    "# 2. Scale features\n",
    "# -- done --\n",
    "\n",
    "# 3. Compute class weights\n",
    "weights = class_weight.compute_class_weight(class_weight='balanced', classes=np.unique(y_train), y=y_train)\n",
    "class_weights = dict(enumerate(weights))\n",
    "print(\"Class Weights:\", class_weights)\n",
    "\n",
    "# 4. Define the neural network with dropout\n",
    "model = models.Sequential([\n",
    "    layers.Input(shape=(X_train.shape[1],)),\n",
    "    layers.Dense(128, activation='relu'),\n",
    "    layers.Dropout(0.3),\n",
    "    layers.Dense(64, activation='relu'),\n",
    "    layers.Dropout(0.3),\n",
    "    layers.Dense(32, activation='relu'),\n",
    "    layers.Dense(1, activation='sigmoid')  # Binary output\n",
    "])\n",
    "\n",
    "# 5. Compile with additional metrics\n",
    "model.compile(optimizer='adam',\n",
    "              loss='binary_crossentropy',\n",
    "              metrics=[\n",
    "                  'accuracy',\n",
    "                  tf.keras.metrics.Precision(name='precision'),\n",
    "                  tf.keras.metrics.Recall(name='recall'),\n",
    "                  tf.keras.metrics.AUC(name='auc')\n",
    "              ])\n",
    "\n",
    "# 6. Early stopping\n",
    "early_stop = callbacks.EarlyStopping(monitor='val_loss', patience=3, restore_best_weights=True)\n",
    "\n",
    "# 7. Train the model\n",
    "history = model.fit(X_train, y_train,\n",
    "                    validation_split=0.1,\n",
    "                    epochs=5,\n",
    "                    batch_size=64,\n",
    "                    class_weight=class_weights,\n",
    "                    callbacks=[early_stop],\n",
    "                    verbose=1)\n",
    "\n",
    "# 8. Evaluate\n",
    "loss, acc, prec, rec, auc = model.evaluate(X_test, y_test)\n",
    "print(f\"\\n✅ Test Accuracy: {acc:.4f} | Precision: {prec:.4f} | Recall: {rec:.4f} | AUC: {auc:.4f}\")\n",
    "\n",
    "# 9. Predictions\n",
    "y_pred = (model.predict(X_test) > 0.49).astype(\"int32\")\n",
    "\n",
    "# 10. Full classification report\n",
    "print(\"\\n📊 Classification Report:\\n\")\n",
    "print(classification_report(y_test, y_pred, digits=4))\n"
   ]
  },
  {
   "cell_type": "code",
   "execution_count": null,
   "metadata": {
    "trusted": true
   },
   "outputs": [],
   "source": [
    "df_test_transformed_scaled = data_pipeline.transform(df_test_transformed)"
   ]
  },
  {
   "cell_type": "code",
   "execution_count": null,
   "metadata": {
    "trusted": true
   },
   "outputs": [],
   "source": [
    "df_test_transformed_scaled\n"
   ]
  },
  {
   "cell_type": "code",
   "execution_count": null,
   "metadata": {
    "trusted": true
   },
   "outputs": [],
   "source": [
    "y_pred_prob = (model.predict(df_test_transformed_scaled)).flatten()\n"
   ]
  },
  {
   "cell_type": "code",
   "execution_count": null,
   "metadata": {
    "trusted": true
   },
   "outputs": [],
   "source": [
    "y_pred_prob"
   ]
  },
  {
   "cell_type": "markdown",
   "metadata": {},
   "source": [
    "\n",
    "* 0.498501 - 33.1%\n",
    "* 0.4984 - 33.9%\n",
    "* 0.4982 - 35%\n",
    "* 0.498 - 35.3%\n",
    "* 0.493 - 35.7%\n",
    "* 0.49 - 35.8%\n",
    "\n"
   ]
  },
  {
   "cell_type": "code",
   "execution_count": null,
   "metadata": {
    "trusted": true
   },
   "outputs": [],
   "source": [
    "y_pred = (y_pred_prob > 0.49).astype(\"int32\") \n",
    "\n",
    "import numpy as np\n",
    "unique, counts = np.unique(y_pred, return_counts=True)\n",
    "print(dict(zip(unique, counts)))"
   ]
  },
  {
   "cell_type": "code",
   "execution_count": null,
   "metadata": {
    "trusted": true
   },
   "outputs": [],
   "source": [
    "submission = pd.DataFrame({\n",
    "    'record_id' : df_test['record_id'], \n",
    "    'survival_status' : y_pred.flatten()\n",
    "})\n",
    "submission.to_csv('submission.csv', index=False)"
   ]
  },
  {
   "cell_type": "code",
   "execution_count": null,
   "metadata": {
    "trusted": true
   },
   "outputs": [],
   "source": [
    "submission['survival_status'].value_counts()"
   ]
  },
  {
   "cell_type": "markdown",
   "metadata": {},
   "source": [
    "## Model Exporting "
   ]
  },
  {
   "cell_type": "code",
   "execution_count": null,
   "metadata": {
    "trusted": true
   },
   "outputs": [],
   "source": [
    "import joblib\n",
    "model.save('cancer_prediction_model.h5')\n",
    "joblib.dump(data_pipeline, 'data_pipeline.pkl')\n",
    "\n"
   ]
  },
  {
   "cell_type": "code",
   "execution_count": null,
   "metadata": {
    "trusted": true
   },
   "outputs": [],
   "source": [
    "import matplotlib.pyplot as plt\n",
    "\n",
    "fig, axs = plt.subplots(1, 3, figsize=(18, 5))\n",
    "\n",
    "# Accuracy\n",
    "axs[0].plot(history.history['accuracy'], label='Train')\n",
    "axs[0].plot(history.history['val_accuracy'], label='Val')\n",
    "axs[0].set_title('Accuracy')\n",
    "axs[0].set_xlabel('Epochs')\n",
    "axs[0].set_ylabel('Accuracy')\n",
    "axs[0].legend()\n",
    "axs[0].grid(True)\n",
    "\n",
    "# Precision\n",
    "axs[1].plot(history.history['precision'], label='Train')\n",
    "axs[1].plot(history.history['val_precision'], label='Val')\n",
    "axs[1].set_title('Precision')\n",
    "axs[1].set_xlabel('Epochs')\n",
    "axs[1].set_ylabel('Precision')\n",
    "axs[1].legend()\n",
    "axs[1].grid(True)\n",
    "\n",
    "# Recall\n",
    "axs[2].plot(history.history['recall'], label='Train')\n",
    "axs[2].plot(history.history['val_recall'], label='Val')\n",
    "axs[2].set_title('Recall')\n",
    "axs[2].set_xlabel('Epochs')\n",
    "axs[2].set_ylabel('Recall')\n",
    "axs[2].legend()\n",
    "axs[2].grid(True)\n",
    "\n",
    "plt.tight_layout()\n",
    "plt.show()\n"
   ]
  },
  {
   "cell_type": "markdown",
   "metadata": {},
   "source": [
    "# Approach - II"
   ]
  },
  {
   "cell_type": "markdown",
   "metadata": {},
   "source": [
    "## Handling Imbalanced - Under Sampling"
   ]
  },
  {
   "cell_type": "code",
   "execution_count": null,
   "metadata": {
    "trusted": true
   },
   "outputs": [],
   "source": [
    "df_train_survived = df_train[df_train['survival_status'] == 1]\n",
    "df_train_survived['survival_status'].value_counts()"
   ]
  },
  {
   "cell_type": "code",
   "execution_count": null,
   "metadata": {
    "trusted": true
   },
   "outputs": [],
   "source": [
    "df_train_not_survived = df_train[df_train['survival_status'] == 0]\n",
    "df_train_not_survived['survival_status'].value_counts()"
   ]
  },
  {
   "cell_type": "code",
   "execution_count": null,
   "metadata": {
    "trusted": true
   },
   "outputs": [],
   "source": [
    "df_train_not_survived_sampled = df_train_not_survived.sample(219604)\n",
    "df_train_not_survived_sampled.shape"
   ]
  },
  {
   "cell_type": "code",
   "execution_count": null,
   "metadata": {
    "trusted": true
   },
   "outputs": [],
   "source": [
    "df_train_sampled = pd.concat([df_train_not_survived_sampled, df_train_survived], axis=0)\n",
    "df_train_sampled.shape"
   ]
  },
  {
   "cell_type": "code",
   "execution_count": null,
   "metadata": {
    "trusted": true
   },
   "outputs": [],
   "source": [
    "X = df_train_sampled.drop('survival_status', axis=1)\n",
    "y = df_train_sampled['survival_status']"
   ]
  },
  {
   "cell_type": "code",
   "execution_count": null,
   "metadata": {
    "trusted": true
   },
   "outputs": [],
   "source": [
    "X_train_sampled_transformed = data_pipeline.fit_transform(X)\n"
   ]
  },
  {
   "cell_type": "code",
   "execution_count": null,
   "metadata": {
    "trusted": true
   },
   "outputs": [],
   "source": [
    "import tensorflow as tf\n",
    "from tensorflow.keras import layers, models, callbacks\n",
    "from sklearn.model_selection import train_test_split\n",
    "from sklearn.preprocessing import StandardScaler\n",
    "from sklearn.metrics import classification_report, roc_auc_score\n",
    "from sklearn.utils import class_weight\n",
    "import numpy as np\n",
    "\n",
    "# 1. Train-test split\n",
    "X_train, X_test, y_train, y_test = train_test_split(X_train_sampled_transformed, y, test_size=0.2, random_state=42) # , stratify=y\n",
    "\n",
    "# 2. Scale features\n",
    "# -- done --\n",
    "\n",
    "# 3. Compute class weights\n",
    "# weights = class_weight.compute_class_weight(class_weight='balanced', classes=np.unique(y_train), y=y_train)\n",
    "# class_weights = dict(enumerate(weights))\n",
    "# print(\"Class Weights:\", class_weights)\n",
    "\n",
    "# 4. Define the neural network with dropout\n",
    "model = models.Sequential([\n",
    "    layers.Input(shape=(X_train.shape[1],)),\n",
    "    layers.Dense(128, activation='relu'),\n",
    "    layers.Dropout(0.3),\n",
    "    layers.Dense(64, activation='relu'),\n",
    "    layers.Dropout(0.3),\n",
    "    layers.Dense(32, activation='relu'),\n",
    "    layers.Dense(1, activation='sigmoid')  # Binary output\n",
    "])\n",
    "\n",
    "# 5. Compile with additional metrics\n",
    "model.compile(optimizer='adam',\n",
    "              loss='binary_crossentropy',\n",
    "              metrics=[\n",
    "                  'accuracy',\n",
    "                  tf.keras.metrics.Precision(name='precision'),\n",
    "                  tf.keras.metrics.Recall(name='recall'),\n",
    "                  tf.keras.metrics.AUC(name='auc')\n",
    "              ])\n",
    "\n",
    "# 6. Early stopping\n",
    "early_stop = callbacks.EarlyStopping(monitor='val_loss', patience=5, restore_best_weights=True)\n",
    "\n",
    "# 7. Train the model\n",
    "history = model.fit(X_train, y_train,\n",
    "                    validation_split=0.1,\n",
    "                    epochs=20,\n",
    "                    batch_size=3000,\n",
    "                    # class_weight=class_weights,\n",
    "                    callbacks=[early_stop],\n",
    "                    verbose=1)\n",
    "\n",
    "# 8. Evaluate\n",
    "loss, acc, prec, rec, auc = model.evaluate(X_test, y_test)\n",
    "print(f\"\\n✅ Test Accuracy: {acc:.4f} | Precision: {prec:.4f} | Recall: {rec:.4f} | AUC: {auc:.4f}\")\n",
    "\n",
    "# 9. Predictions\n",
    "y_pred = (model.predict(X_test) > 0.5).astype(\"int32\")\n",
    "\n",
    "# 10. Full classification report\n",
    "print(\"\\n📊 Classification Report:\\n\")\n",
    "print(classification_report(y_test, y_pred, digits=4))\n"
   ]
  },
  {
   "cell_type": "code",
   "execution_count": null,
   "metadata": {
    "trusted": true
   },
   "outputs": [],
   "source": [
    "df_test_transformed = data_pipeline.transform(df_test)\n",
    "df_test_transformed.shape"
   ]
  },
  {
   "cell_type": "code",
   "execution_count": null,
   "metadata": {
    "trusted": true
   },
   "outputs": [],
   "source": [
    "model.save('MetaMorphs_model.h5')"
   ]
  },
  {
   "cell_type": "code",
   "execution_count": null,
   "metadata": {
    "trusted": true
   },
   "outputs": [],
   "source": [
    "y_pred_prob = (model.predict(df_test_transformed)).flatten()\n",
    "y_pred = (y_pred_prob > 0.5).astype(\"int32\") \n",
    "\n",
    "import numpy as np\n",
    "unique, counts = np.unique(y_pred, return_counts=True)\n",
    "print(dict(zip(unique, counts)))"
   ]
  },
  {
   "cell_type": "code",
   "execution_count": null,
   "metadata": {
    "trusted": true
   },
   "outputs": [],
   "source": [
    "\n",
    "submission = pd.DataFrame({\n",
    "    'record_id' : df_test['record_id'], \n",
    "    'survival_status' : y_pred.flatten()\n",
    "})\n",
    "submission.to_csv('submission.csv', index=False)"
   ]
  },
  {
   "cell_type": "code",
   "execution_count": null,
   "metadata": {
    "trusted": true
   },
   "outputs": [],
   "source": [
    "min(y_pred_prob), max(y_pred_prob)"
   ]
  },
  {
   "cell_type": "markdown",
   "metadata": {},
   "source": [
    "# Approach - III"
   ]
  },
  {
   "cell_type": "markdown",
   "metadata": {},
   "source": [
    "## Pipeline with Advanced Feature Engineering"
   ]
  },
  {
   "cell_type": "code",
   "execution_count": 11,
   "metadata": {
    "execution": {
     "iopub.execute_input": "2025-07-14T14:44:25.800493Z",
     "iopub.status.busy": "2025-07-14T14:44:25.800185Z",
     "iopub.status.idle": "2025-07-14T14:44:25.818870Z",
     "shell.execute_reply": "2025-07-14T14:44:25.818000Z",
     "shell.execute_reply.started": "2025-07-14T14:44:25.800471Z"
    },
    "trusted": true
   },
   "outputs": [],
   "source": [
    "# Improved preprocessing with better feature engineering\n",
    "from sklearn.pipeline import Pipeline\n",
    "from sklearn.preprocessing import OneHotEncoder, StandardScaler\n",
    "import pandas as pd\n",
    "from sklearn.base import BaseEstimator, TransformerMixin\n",
    "import numpy as np\n",
    "\n",
    "class ProcessSmoking(BaseEstimator, TransformerMixin):\n",
    "    def fit(self, X, y=None):\n",
    "        return self\n",
    "        \n",
    "    def transform(self, X):\n",
    "        X = X.copy()\n",
    "        # Set cigarettes_per_day to 0 for non-smokers\n",
    "        X.loc[X['smoking_status'].isin(['Never Smoked', 'Passive Smoker', 'Passive', 'Non Smoker']), 'cigarettes_per_day'] = 0\n",
    "        \n",
    "        # Handle missing values in cigarettes_per_day\n",
    "        X['cigarettes_per_day'] = X['cigarettes_per_day'].fillna(0)\n",
    "        \n",
    "        return X\n",
    "\n",
    "class ProcessCols(BaseEstimator, TransformerMixin):\n",
    "    def fit(self, X, y=None):\n",
    "        return self\n",
    "\n",
    "    def transform(self, X):\n",
    "        X = X.copy()\n",
    "        \n",
    "        # Binary encodings\n",
    "        X['family_cancer_history'] = X['family_cancer_history'].replace({'Yes': 1, 'No': 0})\n",
    "        X['has_other_cancer'] = X['has_other_cancer'].replace({'Yes': 1, 'No': 0})\n",
    "        X['asthma_diagnosis'] = X['asthma_diagnosis'].replace({'Yes': 1, 'No': 0})\n",
    "        X['sex'] = X['sex'].replace({'Male': 1, 'Female': 0})\n",
    "        \n",
    "        # Blood pressure with better handling\n",
    "        X['blood_pressure_status'] = X['blood_pressure_status'].replace({\n",
    "            'High Blood Pressure': 2,\n",
    "            'Elevated': 1,\n",
    "            'Normal': 0,\n",
    "            'Normal BP': 0\n",
    "        })\n",
    "        \n",
    "        # Liver condition\n",
    "        X['liver_condition'] = X['liver_condition'].replace({\n",
    "            'Normal': 0, 'Normal Liver': 0, 'Liver OK': 0, 'No Issue': 0,\n",
    "            'Has Cirrhosis': 1, 'Cirrhos': 1\n",
    "        })\n",
    "        \n",
    "        # Smoking status standardization\n",
    "        X['smoking_status'] = X['smoking_status'].replace({\n",
    "            'Current Smoker': 'Current',\n",
    "            'Former Smoker': 'Former',\n",
    "            'Passive Smoker': 'Passive',\n",
    "            'Never Smoked': 'Never',\n",
    "            'Passive': 'Passive',\n",
    "            'Non Smoker': 'Never',\n",
    "            'Former Smk': 'Former'\n",
    "        })\n",
    "        \n",
    "        # Treatment type\n",
    "        X['treatment_type'] = X['treatment_type'].replace({\n",
    "            'Chemo': 'Chemotherapy',\n",
    "            'Surg': 'Surgery',\n",
    "            'Combo': 'Combined'\n",
    "        })\n",
    "        \n",
    "        return X\n",
    "\n",
    "class FeatureEngineering(BaseEstimator, TransformerMixin):\n",
    "    def fit(self, X, y=None):\n",
    "        return self\n",
    "        \n",
    "    def transform(self, X):\n",
    "        X = X.copy()\n",
    "        \n",
    "        # BMI calculation\n",
    "        X['bmi'] = X['weight_kg'] / (X['height_cm'] / 100) ** 2\n",
    "        \n",
    "        # Age groups\n",
    "        X['age_group'] = pd.cut(X['patient_age'], \n",
    "                               bins=[0, 40, 55, 70, 100], \n",
    "                               labels=['young', 'middle', 'senior', 'elderly'])\n",
    "        \n",
    "        # Smoking intensity categories\n",
    "        X['smoking_intensity'] = pd.cut(X['cigarettes_per_day'], \n",
    "                                       bins=[-1, 0, 10, 20, 100], \n",
    "                                       labels=['none', 'light', 'moderate', 'heavy'])\n",
    "        \n",
    "        # Cancer stage severity\n",
    "        X['stage_severity'] = X['cancer_stage'].replace({1: 'early', 2: 'early', 3: 'advanced', 4: 'advanced'})\n",
    "        \n",
    "        # Risk factors combination\n",
    "        X['high_risk_combo'] = (\n",
    "            (X['cancer_stage'] >= 3) & \n",
    "            (X['cigarettes_per_day'] > 10) & \n",
    "            (X['family_cancer_history'] == 1)\n",
    "        ).astype(int)\n",
    "        \n",
    "        return X\n",
    "\n",
    "class FormatDates(BaseEstimator, TransformerMixin):\n",
    "    def fit(self, X, y=None):\n",
    "        return self\n",
    "\n",
    "    def transform(self, X):\n",
    "        X = X.copy()\n",
    "        \n",
    "        # Convert dates\n",
    "        X['treatment_start_date'] = pd.to_datetime(X['treatment_start_date'], errors='coerce')\n",
    "        X['treatment_end_date'] = pd.to_datetime(X['treatment_end_date'], errors='coerce')\n",
    "        X['diagnosis_date'] = pd.to_datetime(X['diagnosis_date'], errors='coerce')\n",
    "        \n",
    "        # Calculate durations\n",
    "        X['treatment_duration'] = (X['treatment_end_date'] - X['treatment_start_date']).dt.days\n",
    "        X['diagnosis_to_treatment_delay'] = (X['treatment_start_date'] - X['diagnosis_date']).dt.days\n",
    "        \n",
    "        # Handle negative or extreme values\n",
    "        X['treatment_duration'] = X['treatment_duration'].clip(0, 365*2)  # Max 2 years\n",
    "        X['diagnosis_to_treatment_delay'] = X['diagnosis_to_treatment_delay'].clip(0, 365)  # Max 1 year\n",
    "        \n",
    "        # Fill missing values\n",
    "        X['treatment_duration'] = X['treatment_duration'].fillna(X['treatment_duration'].median())\n",
    "        X['diagnosis_to_treatment_delay'] = X['diagnosis_to_treatment_delay'].fillna(X['diagnosis_to_treatment_delay'].median())\n",
    "        \n",
    "        # Extract year and month for potential seasonality\n",
    "        X['diagnosis_year'] = X['diagnosis_date'].dt.year\n",
    "        X['diagnosis_month'] = X['diagnosis_date'].dt.month\n",
    "        \n",
    "        # Drop original date columns\n",
    "        X = X.drop(['treatment_end_date', 'treatment_start_date', 'diagnosis_date'], axis=1)\n",
    "        \n",
    "        return X\n",
    "\n",
    "class EncodeCatCols(BaseEstimator, TransformerMixin):\n",
    "    def __init__(self, columns=['smoking_status', 'treatment_type', 'age_group', 'smoking_intensity', 'stage_severity']):\n",
    "        self.columns = columns\n",
    "        self.encoder = OneHotEncoder(sparse_output=False, handle_unknown='ignore')\n",
    "\n",
    "    def fit(self, X, y=None):\n",
    "        self.encoder.fit(X[self.columns])\n",
    "        return self\n",
    "\n",
    "    def transform(self, X):\n",
    "        X = X.copy()\n",
    "        encoded = self.encoder.transform(X[self.columns])\n",
    "        column_names = self.encoder.get_feature_names_out(self.columns)\n",
    "        encoded_df = pd.DataFrame(encoded, columns=column_names, index=X.index)\n",
    "        X = X.drop(columns=self.columns)\n",
    "        X = pd.concat([X, encoded_df], axis=1)\n",
    "        return X\n",
    "\n",
    "class DropUnwantedCols(BaseEstimator, TransformerMixin):\n",
    "    def fit(self, X, y=None):\n",
    "        return self\n",
    "\n",
    "    def transform(self, X):\n",
    "        drop_cols = ['first_name', 'last_name', 'record_id', 'residence_state']\n",
    "        existing_cols = [col for col in drop_cols if col in X.columns]\n",
    "        X = X.drop(existing_cols, axis=1)\n",
    "        return X\n",
    "\n",
    "# Improved pipeline\n",
    "data_pipeline = Pipeline([\n",
    "    ('process_smoking', ProcessSmoking()),\n",
    "    ('process_columns', ProcessCols()),\n",
    "    ('feature_engineering', FeatureEngineering()),\n",
    "    ('format_dates', FormatDates()),\n",
    "    ('encode_categoricals', EncodeCatCols()),\n",
    "    ('drop_unwanted', DropUnwantedCols()),\n",
    "    ('scaler', StandardScaler())  \n",
    "])"
   ]
  },
  {
   "cell_type": "code",
   "execution_count": 12,
   "metadata": {
    "execution": {
     "iopub.execute_input": "2025-07-14T14:58:18.408625Z",
     "iopub.status.busy": "2025-07-14T14:58:18.407801Z",
     "iopub.status.idle": "2025-07-14T14:58:18.470745Z",
     "shell.execute_reply": "2025-07-14T14:58:18.469966Z",
     "shell.execute_reply.started": "2025-07-14T14:58:18.408597Z"
    },
    "trusted": true
   },
   "outputs": [
    {
     "data": {
      "text/plain": [
       "survival_status\n",
       "1    219604\n",
       "Name: count, dtype: int64"
      ]
     },
     "execution_count": 12,
     "metadata": {},
     "output_type": "execute_result"
    }
   ],
   "source": [
    "df_train_survived = df_train[df_train['survival_status'] == 1]\n",
    "df_train_survived['survival_status'].value_counts()"
   ]
  },
  {
   "cell_type": "code",
   "execution_count": 13,
   "metadata": {
    "execution": {
     "iopub.execute_input": "2025-07-14T14:58:08.122020Z",
     "iopub.status.busy": "2025-07-14T14:58:08.121801Z",
     "iopub.status.idle": "2025-07-14T14:58:08.295262Z",
     "shell.execute_reply": "2025-07-14T14:58:08.294535Z",
     "shell.execute_reply.started": "2025-07-14T14:58:08.121996Z"
    },
    "trusted": true
   },
   "outputs": [
    {
     "data": {
      "text/plain": [
       "survival_status\n",
       "0    780395\n",
       "Name: count, dtype: int64"
      ]
     },
     "execution_count": 13,
     "metadata": {},
     "output_type": "execute_result"
    }
   ],
   "source": [
    "df_train_not_survived = df_train[df_train['survival_status'] == 0]\n",
    "df_train_not_survived['survival_status'].value_counts()"
   ]
  },
  {
   "cell_type": "markdown",
   "metadata": {},
   "source": [
    "### Under Sampling"
   ]
  },
  {
   "cell_type": "code",
   "execution_count": 14,
   "metadata": {
    "execution": {
     "iopub.execute_input": "2025-07-14T15:00:06.248272Z",
     "iopub.status.busy": "2025-07-14T15:00:06.247755Z",
     "iopub.status.idle": "2025-07-14T15:00:06.525202Z",
     "shell.execute_reply": "2025-07-14T15:00:06.524575Z",
     "shell.execute_reply.started": "2025-07-14T15:00:06.248250Z"
    },
    "trusted": true
   },
   "outputs": [
    {
     "data": {
      "text/plain": [
       "(400000, 22)"
      ]
     },
     "execution_count": 14,
     "metadata": {},
     "output_type": "execute_result"
    }
   ],
   "source": [
    "df_train_not_survived_sampled = df_train_not_survived.sample(400000)\n",
    "df_train_not_survived_sampled.shape"
   ]
  },
  {
   "cell_type": "markdown",
   "metadata": {},
   "source": [
    "### Over Sampling"
   ]
  },
  {
   "cell_type": "code",
   "execution_count": 15,
   "metadata": {
    "execution": {
     "iopub.execute_input": "2025-07-14T15:00:15.988804Z",
     "iopub.status.busy": "2025-07-14T15:00:15.988064Z",
     "iopub.status.idle": "2025-07-14T15:00:16.118995Z",
     "shell.execute_reply": "2025-07-14T15:00:16.118330Z",
     "shell.execute_reply.started": "2025-07-14T15:00:15.988778Z"
    },
    "trusted": true
   },
   "outputs": [
    {
     "data": {
      "text/plain": [
       "(400000, 22)"
      ]
     },
     "execution_count": 15,
     "metadata": {},
     "output_type": "execute_result"
    }
   ],
   "source": [
    "df_train_survived_sampled = df_train_survived.sample(400000,replace=True)\n",
    "df_train_survived_sampled.shape"
   ]
  },
  {
   "cell_type": "code",
   "execution_count": 16,
   "metadata": {
    "execution": {
     "iopub.execute_input": "2025-07-14T15:00:35.080918Z",
     "iopub.status.busy": "2025-07-14T15:00:35.080619Z",
     "iopub.status.idle": "2025-07-14T15:00:35.262109Z",
     "shell.execute_reply": "2025-07-14T15:00:35.261528Z",
     "shell.execute_reply.started": "2025-07-14T15:00:35.080899Z"
    },
    "trusted": true
   },
   "outputs": [
    {
     "data": {
      "text/plain": [
       "(800000, 22)"
      ]
     },
     "execution_count": 16,
     "metadata": {},
     "output_type": "execute_result"
    }
   ],
   "source": [
    "df_train_sampled = pd.concat([df_train_not_survived_sampled, df_train_survived_sampled], axis=0)\n",
    "df_train_sampled.shape"
   ]
  },
  {
   "cell_type": "code",
   "execution_count": 17,
   "metadata": {
    "execution": {
     "iopub.execute_input": "2025-07-14T15:00:50.078569Z",
     "iopub.status.busy": "2025-07-14T15:00:50.078269Z",
     "iopub.status.idle": "2025-07-14T15:00:53.760745Z",
     "shell.execute_reply": "2025-07-14T15:00:53.760099Z",
     "shell.execute_reply.started": "2025-07-14T15:00:50.078549Z"
    },
    "trusted": true
   },
   "outputs": [
    {
     "name": "stderr",
     "output_type": "stream",
     "text": [
      "C:\\Users\\User\\AppData\\Local\\Temp\\ipykernel_8896\\3050752241.py:30: FutureWarning: Downcasting behavior in `replace` is deprecated and will be removed in a future version. To retain the old behavior, explicitly call `result.infer_objects(copy=False)`. To opt-in to the future behavior, set `pd.set_option('future.no_silent_downcasting', True)`\n",
      "  X['family_cancer_history'] = X['family_cancer_history'].replace({'Yes': 1, 'No': 0})\n",
      "C:\\Users\\User\\AppData\\Local\\Temp\\ipykernel_8896\\3050752241.py:31: FutureWarning: Downcasting behavior in `replace` is deprecated and will be removed in a future version. To retain the old behavior, explicitly call `result.infer_objects(copy=False)`. To opt-in to the future behavior, set `pd.set_option('future.no_silent_downcasting', True)`\n",
      "  X['has_other_cancer'] = X['has_other_cancer'].replace({'Yes': 1, 'No': 0})\n",
      "C:\\Users\\User\\AppData\\Local\\Temp\\ipykernel_8896\\3050752241.py:32: FutureWarning: Downcasting behavior in `replace` is deprecated and will be removed in a future version. To retain the old behavior, explicitly call `result.infer_objects(copy=False)`. To opt-in to the future behavior, set `pd.set_option('future.no_silent_downcasting', True)`\n",
      "  X['asthma_diagnosis'] = X['asthma_diagnosis'].replace({'Yes': 1, 'No': 0})\n",
      "C:\\Users\\User\\AppData\\Local\\Temp\\ipykernel_8896\\3050752241.py:33: FutureWarning: Downcasting behavior in `replace` is deprecated and will be removed in a future version. To retain the old behavior, explicitly call `result.infer_objects(copy=False)`. To opt-in to the future behavior, set `pd.set_option('future.no_silent_downcasting', True)`\n",
      "  X['sex'] = X['sex'].replace({'Male': 1, 'Female': 0})\n",
      "C:\\Users\\User\\AppData\\Local\\Temp\\ipykernel_8896\\3050752241.py:36: FutureWarning: Downcasting behavior in `replace` is deprecated and will be removed in a future version. To retain the old behavior, explicitly call `result.infer_objects(copy=False)`. To opt-in to the future behavior, set `pd.set_option('future.no_silent_downcasting', True)`\n",
      "  X['blood_pressure_status'] = X['blood_pressure_status'].replace({\n",
      "C:\\Users\\User\\AppData\\Local\\Temp\\ipykernel_8896\\3050752241.py:44: FutureWarning: Downcasting behavior in `replace` is deprecated and will be removed in a future version. To retain the old behavior, explicitly call `result.infer_objects(copy=False)`. To opt-in to the future behavior, set `pd.set_option('future.no_silent_downcasting', True)`\n",
      "  X['liver_condition'] = X['liver_condition'].replace({\n"
     ]
    }
   ],
   "source": [
    "X = df_train_sampled.drop('survival_status', axis=1)\n",
    "y = df_train_sampled['survival_status']\n",
    "\n",
    "X_transformed = data_pipeline.fit_transform(X)"
   ]
  },
  {
   "cell_type": "code",
   "execution_count": 18,
   "metadata": {
    "execution": {
     "iopub.execute_input": "2025-07-14T15:01:06.069874Z",
     "iopub.status.busy": "2025-07-14T15:01:06.069599Z",
     "iopub.status.idle": "2025-07-14T15:01:39.814069Z",
     "shell.execute_reply": "2025-07-14T15:01:39.813235Z",
     "shell.execute_reply.started": "2025-07-14T15:01:06.069856Z"
    },
    "trusted": true
   },
   "outputs": [
    {
     "name": "stdout",
     "output_type": "stream",
     "text": [
      "Epoch 1/20\n",
      "\u001b[1m192/192\u001b[0m \u001b[32m━━━━━━━━━━━━━━━━━━━━\u001b[0m\u001b[37m\u001b[0m \u001b[1m4s\u001b[0m 11ms/step - accuracy: 0.5017 - auc: 0.5027 - loss: 0.6976 - precision: 0.5019 - recall: 0.5032 - val_accuracy: 0.5006 - val_auc: 0.4986 - val_loss: 0.6933 - val_precision: 0.5005 - val_recall: 0.4813\n",
      "Epoch 2/20\n",
      "\u001b[1m192/192\u001b[0m \u001b[32m━━━━━━━━━━━━━━━━━━━━\u001b[0m\u001b[37m\u001b[0m \u001b[1m2s\u001b[0m 10ms/step - accuracy: 0.5022 - auc: 0.5029 - loss: 0.6935 - precision: 0.5025 - recall: 0.5167 - val_accuracy: 0.5025 - val_auc: 0.5010 - val_loss: 0.6932 - val_precision: 0.5027 - val_recall: 0.4458\n",
      "Epoch 3/20\n",
      "\u001b[1m192/192\u001b[0m \u001b[32m━━━━━━━━━━━━━━━━━━━━\u001b[0m\u001b[37m\u001b[0m \u001b[1m2s\u001b[0m 10ms/step - accuracy: 0.5024 - auc: 0.5044 - loss: 0.6933 - precision: 0.5023 - recall: 0.4872 - val_accuracy: 0.4998 - val_auc: 0.4994 - val_loss: 0.6932 - val_precision: 0.4995 - val_recall: 0.3690\n",
      "Epoch 4/20\n",
      "\u001b[1m192/192\u001b[0m \u001b[32m━━━━━━━━━━━━━━━━━━━━\u001b[0m\u001b[37m\u001b[0m \u001b[1m2s\u001b[0m 10ms/step - accuracy: 0.5030 - auc: 0.5045 - loss: 0.6932 - precision: 0.5024 - recall: 0.4460 - val_accuracy: 0.5024 - val_auc: 0.5028 - val_loss: 0.6932 - val_precision: 0.5013 - val_recall: 0.8184\n",
      "Epoch 5/20\n",
      "\u001b[1m192/192\u001b[0m \u001b[32m━━━━━━━━━━━━━━━━━━━━\u001b[0m\u001b[37m\u001b[0m \u001b[1m2s\u001b[0m 10ms/step - accuracy: 0.5034 - auc: 0.5051 - loss: 0.6932 - precision: 0.5031 - recall: 0.5564 - val_accuracy: 0.5035 - val_auc: 0.5032 - val_loss: 0.6931 - val_precision: 0.5039 - val_recall: 0.4237\n",
      "Epoch 6/20\n",
      "\u001b[1m192/192\u001b[0m \u001b[32m━━━━━━━━━━━━━━━━━━━━\u001b[0m\u001b[37m\u001b[0m \u001b[1m2s\u001b[0m 12ms/step - accuracy: 0.5036 - auc: 0.5057 - loss: 0.6931 - precision: 0.5035 - recall: 0.4966 - val_accuracy: 0.5035 - val_auc: 0.5059 - val_loss: 0.6931 - val_precision: 0.5025 - val_recall: 0.6849\n",
      "Epoch 7/20\n",
      "\u001b[1m192/192\u001b[0m \u001b[32m━━━━━━━━━━━━━━━━━━━━\u001b[0m\u001b[37m\u001b[0m \u001b[1m2s\u001b[0m 9ms/step - accuracy: 0.5036 - auc: 0.5051 - loss: 0.6931 - precision: 0.5036 - recall: 0.5099 - val_accuracy: 0.5043 - val_auc: 0.5078 - val_loss: 0.6931 - val_precision: 0.5037 - val_recall: 0.5662\n",
      "Epoch 8/20\n",
      "\u001b[1m192/192\u001b[0m \u001b[32m━━━━━━━━━━━━━━━━━━━━\u001b[0m\u001b[37m\u001b[0m \u001b[1m2s\u001b[0m 10ms/step - accuracy: 0.5054 - auc: 0.5077 - loss: 0.6931 - precision: 0.5045 - recall: 0.5149 - val_accuracy: 0.5036 - val_auc: 0.5071 - val_loss: 0.6931 - val_precision: 0.5022 - val_recall: 0.7952\n",
      "Epoch 9/20\n",
      "\u001b[1m192/192\u001b[0m \u001b[32m━━━━━━━━━━━━━━━━━━━━\u001b[0m\u001b[37m\u001b[0m \u001b[1m2s\u001b[0m 10ms/step - accuracy: 0.5055 - auc: 0.5080 - loss: 0.6930 - precision: 0.5051 - recall: 0.5827 - val_accuracy: 0.5074 - val_auc: 0.5082 - val_loss: 0.6930 - val_precision: 0.5073 - val_recall: 0.5060\n",
      "Epoch 10/20\n",
      "\u001b[1m192/192\u001b[0m \u001b[32m━━━━━━━━━━━━━━━━━━━━\u001b[0m\u001b[37m\u001b[0m \u001b[1m2s\u001b[0m 10ms/step - accuracy: 0.5065 - auc: 0.5095 - loss: 0.6930 - precision: 0.5074 - recall: 0.5770 - val_accuracy: 0.5053 - val_auc: 0.5099 - val_loss: 0.6930 - val_precision: 0.5107 - val_recall: 0.2433\n",
      "Epoch 11/20\n",
      "\u001b[1m192/192\u001b[0m \u001b[32m━━━━━━━━━━━━━━━━━━━━\u001b[0m\u001b[37m\u001b[0m \u001b[1m2s\u001b[0m 10ms/step - accuracy: 0.5069 - auc: 0.5104 - loss: 0.6930 - precision: 0.5079 - recall: 0.4795 - val_accuracy: 0.5041 - val_auc: 0.5090 - val_loss: 0.6930 - val_precision: 0.5028 - val_recall: 0.6869\n",
      "Epoch 12/20\n",
      "\u001b[1m192/192\u001b[0m \u001b[32m━━━━━━━━━━━━━━━━━━━━\u001b[0m\u001b[37m\u001b[0m \u001b[1m2s\u001b[0m 10ms/step - accuracy: 0.5085 - auc: 0.5122 - loss: 0.6929 - precision: 0.5081 - recall: 0.5815 - val_accuracy: 0.5073 - val_auc: 0.5103 - val_loss: 0.6930 - val_precision: 0.5053 - val_recall: 0.6780\n",
      "Epoch 13/20\n",
      "\u001b[1m192/192\u001b[0m \u001b[32m━━━━━━━━━━━━━━━━━━━━\u001b[0m\u001b[37m\u001b[0m \u001b[1m2s\u001b[0m 10ms/step - accuracy: 0.5085 - auc: 0.5114 - loss: 0.6929 - precision: 0.5073 - recall: 0.5431 - val_accuracy: 0.5060 - val_auc: 0.5086 - val_loss: 0.6930 - val_precision: 0.5041 - val_recall: 0.7158\n",
      "Epoch 14/20\n",
      "\u001b[1m192/192\u001b[0m \u001b[32m━━━━━━━━━━━━━━━━━━━━\u001b[0m\u001b[37m\u001b[0m \u001b[1m2s\u001b[0m 10ms/step - accuracy: 0.5102 - auc: 0.5150 - loss: 0.6927 - precision: 0.5095 - recall: 0.5952 - val_accuracy: 0.5086 - val_auc: 0.5109 - val_loss: 0.6929 - val_precision: 0.5068 - val_recall: 0.6250\n",
      "Epoch 15/20\n",
      "\u001b[1m192/192\u001b[0m \u001b[32m━━━━━━━━━━━━━━━━━━━━\u001b[0m\u001b[37m\u001b[0m \u001b[1m2s\u001b[0m 10ms/step - accuracy: 0.5108 - auc: 0.5160 - loss: 0.6927 - precision: 0.5095 - recall: 0.5278 - val_accuracy: 0.5078 - val_auc: 0.5122 - val_loss: 0.6929 - val_precision: 0.5058 - val_recall: 0.6677\n",
      "Epoch 16/20\n",
      "\u001b[1m192/192\u001b[0m \u001b[32m━━━━━━━━━━━━━━━━━━━━\u001b[0m\u001b[37m\u001b[0m \u001b[1m2s\u001b[0m 9ms/step - accuracy: 0.5124 - auc: 0.5166 - loss: 0.6927 - precision: 0.5106 - recall: 0.5397 - val_accuracy: 0.5097 - val_auc: 0.5112 - val_loss: 0.6929 - val_precision: 0.5077 - val_recall: 0.6262\n",
      "Epoch 17/20\n",
      "\u001b[1m192/192\u001b[0m \u001b[32m━━━━━━━━━━━━━━━━━━━━\u001b[0m\u001b[37m\u001b[0m \u001b[1m2s\u001b[0m 10ms/step - accuracy: 0.5114 - auc: 0.5183 - loss: 0.6926 - precision: 0.5099 - recall: 0.5929 - val_accuracy: 0.5074 - val_auc: 0.5127 - val_loss: 0.6929 - val_precision: 0.5054 - val_recall: 0.6821\n",
      "Epoch 18/20\n",
      "\u001b[1m192/192\u001b[0m \u001b[32m━━━━━━━━━━━━━━━━━━━━\u001b[0m\u001b[37m\u001b[0m \u001b[1m2s\u001b[0m 10ms/step - accuracy: 0.5125 - auc: 0.5185 - loss: 0.6926 - precision: 0.5113 - recall: 0.5482 - val_accuracy: 0.5105 - val_auc: 0.5145 - val_loss: 0.6928 - val_precision: 0.5103 - val_recall: 0.5101\n",
      "Epoch 19/20\n",
      "\u001b[1m192/192\u001b[0m \u001b[32m━━━━━━━━━━━━━━━━━━━━\u001b[0m\u001b[37m\u001b[0m \u001b[1m2s\u001b[0m 10ms/step - accuracy: 0.5153 - auc: 0.5221 - loss: 0.6923 - precision: 0.5143 - recall: 0.5500 - val_accuracy: 0.5106 - val_auc: 0.5147 - val_loss: 0.6928 - val_precision: 0.5092 - val_recall: 0.5778\n",
      "Epoch 20/20\n",
      "\u001b[1m192/192\u001b[0m \u001b[32m━━━━━━━━━━━━━━━━━━━━\u001b[0m\u001b[37m\u001b[0m \u001b[1m2s\u001b[0m 10ms/step - accuracy: 0.5149 - auc: 0.5206 - loss: 0.6924 - precision: 0.5137 - recall: 0.5620 - val_accuracy: 0.5105 - val_auc: 0.5170 - val_loss: 0.6927 - val_precision: 0.5081 - val_recall: 0.6473\n",
      "\u001b[1m5000/5000\u001b[0m \u001b[32m━━━━━━━━━━━━━━━━━━━━\u001b[0m\u001b[37m\u001b[0m \u001b[1m6s\u001b[0m 1ms/step - accuracy: 0.5140 - auc: 0.5194 - loss: 0.6926 - precision: 0.5125 - recall: 0.6507\n",
      "\n",
      "✅ Test Accuracy: 0.5111 | Precision: 0.5087 | Recall: 0.6472 | AUC: 0.5179\n",
      "\u001b[1m5000/5000\u001b[0m \u001b[32m━━━━━━━━━━━━━━━━━━━━\u001b[0m\u001b[37m\u001b[0m \u001b[1m5s\u001b[0m 1ms/step\n",
      "\n",
      "📊 Classification Report:\n",
      "\n",
      "              precision    recall  f1-score   support\n",
      "\n",
      "           0     0.5155    0.3752    0.4343     80018\n",
      "           1     0.5087    0.6472    0.5696     79982\n",
      "\n",
      "    accuracy                         0.5111    160000\n",
      "   macro avg     0.5121    0.5112    0.5019    160000\n",
      "weighted avg     0.5121    0.5111    0.5019    160000\n",
      "\n"
     ]
    }
   ],
   "source": [
    "import tensorflow as tf\n",
    "from tensorflow.keras import layers, models, callbacks\n",
    "from sklearn.model_selection import train_test_split\n",
    "from sklearn.preprocessing import StandardScaler\n",
    "from sklearn.metrics import classification_report, roc_auc_score\n",
    "from sklearn.utils import class_weight\n",
    "import numpy as np\n",
    "\n",
    "# 1. Train-test split\n",
    "X_train, X_test, y_train, y_test = train_test_split(X_transformed, y, test_size=0.2, random_state=42) # , stratify=y\n",
    "\n",
    "# 2. Scale features\n",
    "# -- done --\n",
    "\n",
    "# 3. Compute class weights\n",
    "# weights = class_weight.compute_class_weight(class_weight='balanced', classes=np.unique(y_train), y=y_train)\n",
    "# class_weights = dict(enumerate(weights))\n",
    "# print(\"Class Weights:\", class_weights)\n",
    "\n",
    "# 4. Define the neural network with dropout\n",
    "model = models.Sequential([\n",
    "    layers.Input(shape=(X_train.shape[1],)),\n",
    "    layers.Dense(128, activation='relu'),\n",
    "    layers.Dropout(0.3),\n",
    "    layers.Dense(64, activation='relu'),\n",
    "    layers.Dropout(0.3),\n",
    "    layers.Dense(32, activation='relu'),\n",
    "    layers.Dense(1, activation='sigmoid')  # Binary output\n",
    "])\n",
    "\n",
    "# 5. Compile with additional metrics\n",
    "model.compile(optimizer='adam',\n",
    "              loss='binary_crossentropy',\n",
    "              metrics=[\n",
    "                  'accuracy',\n",
    "                  tf.keras.metrics.Precision(name='precision'),\n",
    "                  tf.keras.metrics.Recall(name='recall'),\n",
    "                  tf.keras.metrics.AUC(name='auc')\n",
    "              ])\n",
    "\n",
    "# 6. Early stopping\n",
    "early_stop = callbacks.EarlyStopping(monitor='val_loss', patience=5, restore_best_weights=True)\n",
    "\n",
    "# 7. Train the model\n",
    "history = model.fit(X_train, y_train,\n",
    "                    validation_split=0.1,\n",
    "                    epochs=20,\n",
    "                    batch_size=3000,\n",
    "                    # class_weight=class_weights,\n",
    "                    callbacks=[early_stop],\n",
    "                    verbose=1)\n",
    "\n",
    "# 8. Evaluate\n",
    "loss, acc, prec, rec, auc = model.evaluate(X_test, y_test)\n",
    "print(f\"\\n✅ Test Accuracy: {acc:.4f} | Precision: {prec:.4f} | Recall: {rec:.4f} | AUC: {auc:.4f}\")\n",
    "\n",
    "# 9. Predictions\n",
    "y_pred = (model.predict(X_test) > 0.5).astype(\"int32\")\n",
    "\n",
    "# 10. Full classification report\n",
    "print(\"\\n📊 Classification Report:\\n\")\n",
    "print(classification_report(y_test, y_pred, digits=4))\n"
   ]
  },
  {
   "cell_type": "code",
   "execution_count": 20,
   "metadata": {},
   "outputs": [
    {
     "name": "stdout",
     "output_type": "stream",
     "text": [
      "Collecting imbalanced-learn\n",
      "  Downloading imbalanced_learn-0.13.0-py3-none-any.whl.metadata (8.8 kB)\n",
      "Requirement already satisfied: numpy<3,>=1.24.3 in c:\\users\\user\\appdata\\local\\programs\\python\\python312\\lib\\site-packages (from imbalanced-learn) (1.26.4)\n",
      "Requirement already satisfied: scipy<2,>=1.10.1 in c:\\users\\user\\appdata\\local\\programs\\python\\python312\\lib\\site-packages (from imbalanced-learn) (1.13.1)\n",
      "Requirement already satisfied: scikit-learn<2,>=1.3.2 in c:\\users\\user\\appdata\\local\\programs\\python\\python312\\lib\\site-packages (from imbalanced-learn) (1.6.1)\n",
      "Collecting sklearn-compat<1,>=0.1 (from imbalanced-learn)\n",
      "  Downloading sklearn_compat-0.1.3-py3-none-any.whl.metadata (18 kB)\n",
      "Requirement already satisfied: joblib<2,>=1.1.1 in c:\\users\\user\\appdata\\local\\programs\\python\\python312\\lib\\site-packages (from imbalanced-learn) (1.4.2)\n",
      "Requirement already satisfied: threadpoolctl<4,>=2.0.0 in c:\\users\\user\\appdata\\local\\programs\\python\\python312\\lib\\site-packages (from imbalanced-learn) (3.5.0)\n",
      "Downloading imbalanced_learn-0.13.0-py3-none-any.whl (238 kB)\n",
      "Downloading sklearn_compat-0.1.3-py3-none-any.whl (18 kB)\n",
      "Installing collected packages: sklearn-compat, imbalanced-learn\n",
      "\n",
      "   ---------------------------------------- 0/2 [sklearn-compat]\n",
      "   -------------------- ------------------- 1/2 [imbalanced-learn]\n",
      "   -------------------- ------------------- 1/2 [imbalanced-learn]\n",
      "   -------------------- ------------------- 1/2 [imbalanced-learn]\n",
      "   -------------------- ------------------- 1/2 [imbalanced-learn]\n",
      "   -------------------- ------------------- 1/2 [imbalanced-learn]\n",
      "   -------------------- ------------------- 1/2 [imbalanced-learn]\n",
      "   -------------------- ------------------- 1/2 [imbalanced-learn]\n",
      "   -------------------- ------------------- 1/2 [imbalanced-learn]\n",
      "   -------------------- ------------------- 1/2 [imbalanced-learn]\n",
      "   -------------------- ------------------- 1/2 [imbalanced-learn]\n",
      "   -------------------- ------------------- 1/2 [imbalanced-learn]\n",
      "   -------------------- ------------------- 1/2 [imbalanced-learn]\n",
      "   -------------------- ------------------- 1/2 [imbalanced-learn]\n",
      "   -------------------- ------------------- 1/2 [imbalanced-learn]\n",
      "   ---------------------------------------- 2/2 [imbalanced-learn]\n",
      "\n",
      "Successfully installed imbalanced-learn-0.13.0 sklearn-compat-0.1.3\n"
     ]
    }
   ],
   "source": [
    "! pip install imbalanced-learn\n"
   ]
  },
  {
   "cell_type": "markdown",
   "metadata": {
    "trusted": true
   },
   "source": [
    "## Approach - IV (SMOTE)"
   ]
  },
  {
   "cell_type": "code",
   "execution_count": 28,
   "metadata": {},
   "outputs": [],
   "source": [
    "X = df_train.drop('survival_status', axis=1)\n",
    "y = df_train['survival_status']\n"
   ]
  },
  {
   "cell_type": "code",
   "execution_count": 30,
   "metadata": {},
   "outputs": [
    {
     "name": "stderr",
     "output_type": "stream",
     "text": [
      "C:\\Users\\User\\AppData\\Local\\Temp\\ipykernel_8896\\3050752241.py:30: FutureWarning: Downcasting behavior in `replace` is deprecated and will be removed in a future version. To retain the old behavior, explicitly call `result.infer_objects(copy=False)`. To opt-in to the future behavior, set `pd.set_option('future.no_silent_downcasting', True)`\n",
      "  X['family_cancer_history'] = X['family_cancer_history'].replace({'Yes': 1, 'No': 0})\n",
      "C:\\Users\\User\\AppData\\Local\\Temp\\ipykernel_8896\\3050752241.py:31: FutureWarning: Downcasting behavior in `replace` is deprecated and will be removed in a future version. To retain the old behavior, explicitly call `result.infer_objects(copy=False)`. To opt-in to the future behavior, set `pd.set_option('future.no_silent_downcasting', True)`\n",
      "  X['has_other_cancer'] = X['has_other_cancer'].replace({'Yes': 1, 'No': 0})\n",
      "C:\\Users\\User\\AppData\\Local\\Temp\\ipykernel_8896\\3050752241.py:32: FutureWarning: Downcasting behavior in `replace` is deprecated and will be removed in a future version. To retain the old behavior, explicitly call `result.infer_objects(copy=False)`. To opt-in to the future behavior, set `pd.set_option('future.no_silent_downcasting', True)`\n",
      "  X['asthma_diagnosis'] = X['asthma_diagnosis'].replace({'Yes': 1, 'No': 0})\n",
      "C:\\Users\\User\\AppData\\Local\\Temp\\ipykernel_8896\\3050752241.py:33: FutureWarning: Downcasting behavior in `replace` is deprecated and will be removed in a future version. To retain the old behavior, explicitly call `result.infer_objects(copy=False)`. To opt-in to the future behavior, set `pd.set_option('future.no_silent_downcasting', True)`\n",
      "  X['sex'] = X['sex'].replace({'Male': 1, 'Female': 0})\n",
      "C:\\Users\\User\\AppData\\Local\\Temp\\ipykernel_8896\\3050752241.py:36: FutureWarning: Downcasting behavior in `replace` is deprecated and will be removed in a future version. To retain the old behavior, explicitly call `result.infer_objects(copy=False)`. To opt-in to the future behavior, set `pd.set_option('future.no_silent_downcasting', True)`\n",
      "  X['blood_pressure_status'] = X['blood_pressure_status'].replace({\n",
      "C:\\Users\\User\\AppData\\Local\\Temp\\ipykernel_8896\\3050752241.py:44: FutureWarning: Downcasting behavior in `replace` is deprecated and will be removed in a future version. To retain the old behavior, explicitly call `result.infer_objects(copy=False)`. To opt-in to the future behavior, set `pd.set_option('future.no_silent_downcasting', True)`\n",
      "  X['liver_condition'] = X['liver_condition'].replace({\n"
     ]
    }
   ],
   "source": [
    "X_transformed = data_pipeline.fit_transform(X)\n"
   ]
  },
  {
   "cell_type": "code",
   "execution_count": 31,
   "metadata": {},
   "outputs": [],
   "source": [
    "from imblearn.over_sampling import SMOTE\n",
    "smote = SMOTE(sampling_strategy=\"minority\")\n",
    "X_sm, y_sm = smote.fit_resample(X_transformed, y)"
   ]
  },
  {
   "cell_type": "code",
   "execution_count": 33,
   "metadata": {},
   "outputs": [
    {
     "data": {
      "text/plain": [
       "survival_status\n",
       "0    780395\n",
       "1    780395\n",
       "Name: count, dtype: int64"
      ]
     },
     "execution_count": 33,
     "metadata": {},
     "output_type": "execute_result"
    }
   ],
   "source": [
    "y_sm.value_counts()"
   ]
  },
  {
   "cell_type": "code",
   "execution_count": 77,
   "metadata": {},
   "outputs": [
    {
     "name": "stdout",
     "output_type": "stream",
     "text": [
      "Epoch 1/10\n",
      "\u001b[1m275/275\u001b[0m \u001b[32m━━━━━━━━━━━━━━━━━━━━\u001b[0m\u001b[37m\u001b[0m \u001b[1m6s\u001b[0m 14ms/step - accuracy: 0.5007 - auc: 0.5007 - loss: 0.6995 - precision: 0.5006 - recall: 0.4834 - val_accuracy: 0.5203 - val_auc: 0.5268 - val_loss: 0.6924 - val_precision: 0.5150 - val_recall: 0.6822\n",
      "Epoch 2/10\n",
      "\u001b[1m275/275\u001b[0m \u001b[32m━━━━━━━━━━━━━━━━━━━━\u001b[0m\u001b[37m\u001b[0m \u001b[1m3s\u001b[0m 12ms/step - accuracy: 0.5162 - auc: 0.5226 - loss: 0.6922 - precision: 0.5161 - recall: 0.5178 - val_accuracy: 0.5351 - val_auc: 0.5573 - val_loss: 0.6898 - val_precision: 0.5222 - val_recall: 0.8179\n",
      "Epoch 3/10\n",
      "\u001b[1m275/275\u001b[0m \u001b[32m━━━━━━━━━━━━━━━━━━━━\u001b[0m\u001b[37m\u001b[0m \u001b[1m3s\u001b[0m 11ms/step - accuracy: 0.5363 - auc: 0.5496 - loss: 0.6892 - precision: 0.5330 - recall: 0.5996 - val_accuracy: 0.5520 - val_auc: 0.5822 - val_loss: 0.6856 - val_precision: 0.5355 - val_recall: 0.7778\n",
      "Epoch 4/10\n",
      "\u001b[1m275/275\u001b[0m \u001b[32m━━━━━━━━━━━━━━━━━━━━\u001b[0m\u001b[37m\u001b[0m \u001b[1m3s\u001b[0m 12ms/step - accuracy: 0.5498 - auc: 0.5688 - loss: 0.6857 - precision: 0.5447 - recall: 0.6184 - val_accuracy: 0.5563 - val_auc: 0.5972 - val_loss: 0.6832 - val_precision: 0.5369 - val_recall: 0.8126\n",
      "Epoch 5/10\n",
      "\u001b[1m275/275\u001b[0m \u001b[32m━━━━━━━━━━━━━━━━━━━━\u001b[0m\u001b[37m\u001b[0m \u001b[1m3s\u001b[0m 12ms/step - accuracy: 0.5610 - auc: 0.5840 - loss: 0.6823 - precision: 0.5541 - recall: 0.6218 - val_accuracy: 0.5660 - val_auc: 0.6064 - val_loss: 0.6804 - val_precision: 0.5453 - val_recall: 0.7902\n",
      "Epoch 6/10\n",
      "\u001b[1m275/275\u001b[0m \u001b[32m━━━━━━━━━━━━━━━━━━━━\u001b[0m\u001b[37m\u001b[0m \u001b[1m4s\u001b[0m 13ms/step - accuracy: 0.5696 - auc: 0.5961 - loss: 0.6792 - precision: 0.5634 - recall: 0.6155 - val_accuracy: 0.5800 - val_auc: 0.6245 - val_loss: 0.6743 - val_precision: 0.5597 - val_recall: 0.7468\n",
      "Epoch 7/10\n",
      "\u001b[1m275/275\u001b[0m \u001b[32m━━━━━━━━━━━━━━━━━━━━\u001b[0m\u001b[37m\u001b[0m \u001b[1m4s\u001b[0m 13ms/step - accuracy: 0.5839 - auc: 0.6160 - loss: 0.6726 - precision: 0.5815 - recall: 0.5995 - val_accuracy: 0.6160 - val_auc: 0.6654 - val_loss: 0.6514 - val_precision: 0.6273 - val_recall: 0.5701\n",
      "Epoch 8/10\n",
      "\u001b[1m275/275\u001b[0m \u001b[32m━━━━━━━━━━━━━━━━━━━━\u001b[0m\u001b[37m\u001b[0m \u001b[1m3s\u001b[0m 12ms/step - accuracy: 0.6026 - auc: 0.6469 - loss: 0.6501 - precision: 0.6309 - recall: 0.4953 - val_accuracy: 0.6285 - val_auc: 0.6846 - val_loss: 0.6169 - val_precision: 0.6435 - val_recall: 0.5751\n",
      "Epoch 9/10\n",
      "\u001b[1m275/275\u001b[0m \u001b[32m━━━━━━━━━━━━━━━━━━━━\u001b[0m\u001b[37m\u001b[0m \u001b[1m4s\u001b[0m 14ms/step - accuracy: 0.6208 - auc: 0.6731 - loss: 0.6172 - precision: 0.6764 - recall: 0.4613 - val_accuracy: 0.6354 - val_auc: 0.6916 - val_loss: 0.6050 - val_precision: 0.6819 - val_recall: 0.5064\n",
      "Epoch 10/10\n",
      "\u001b[1m275/275\u001b[0m \u001b[32m━━━━━━━━━━━━━━━━━━━━\u001b[0m\u001b[37m\u001b[0m \u001b[1m4s\u001b[0m 14ms/step - accuracy: 0.6267 - auc: 0.6811 - loss: 0.6090 - precision: 0.6802 - recall: 0.4778 - val_accuracy: 0.6383 - val_auc: 0.6938 - val_loss: 0.6014 - val_precision: 0.6831 - val_recall: 0.5147\n",
      "\u001b[1m9755/9755\u001b[0m \u001b[32m━━━━━━━━━━━━━━━━━━━━\u001b[0m\u001b[37m\u001b[0m \u001b[1m17s\u001b[0m 2ms/step - accuracy: 0.6409 - auc: 0.6980 - loss: 0.6000 - precision: 0.6883 - recall: 0.5190\n",
      "\n",
      "✅ Test Accuracy: 0.6411 | Precision: 0.6871 | Recall: 0.5194 | AUC: 0.6977\n",
      "\u001b[1m9755/9755\u001b[0m \u001b[32m━━━━━━━━━━━━━━━━━━━━\u001b[0m\u001b[37m\u001b[0m \u001b[1m14s\u001b[0m 1ms/step\n",
      "\n",
      "Classification Report:\n",
      "\n",
      "              precision    recall  f1-score   support\n",
      "\n",
      "           0     0.6130    0.7630    0.6798    155913\n",
      "           1     0.6871    0.5194    0.5916    156245\n",
      "\n",
      "    accuracy                         0.6411    312158\n",
      "   macro avg     0.6501    0.6412    0.6357    312158\n",
      "weighted avg     0.6501    0.6411    0.6357    312158\n",
      "\n"
     ]
    }
   ],
   "source": [
    "import tensorflow as tf\n",
    "from tensorflow.keras import layers, models, callbacks\n",
    "from sklearn.model_selection import train_test_split\n",
    "from sklearn.preprocessing import StandardScaler\n",
    "from sklearn.metrics import classification_report, roc_auc_score\n",
    "from sklearn.utils import class_weight\n",
    "import numpy as np\n",
    "\n",
    "# 1. Train-test split\n",
    "X_train, X_test, y_train, y_test = train_test_split(X_sm, y_sm, test_size=0.2, random_state=42) # , stratify=y\n",
    "\n",
    "# 2. Scale features\n",
    "# -- done --\n",
    "\n",
    "# 3. Compute class weights\n",
    "weights = class_weight.compute_class_weight(class_weight='balanced', classes=np.unique(y_train), y=y_train)\n",
    "class_weights = dict(enumerate(weights))\n",
    "# print(\"Class Weights:\", class_weights)\n",
    "\n",
    "# 4. Define the neural network with dropout\n",
    "model = models.Sequential([\n",
    "    layers.Input(shape=(X_train.shape[1],)),\n",
    "    layers.Dense(128, activation='relu'),\n",
    "    layers.Dropout(0.3),\n",
    "    layers.Dense(64, activation='relu'),\n",
    "    layers.Dropout(0.3),\n",
    "    layers.Dense(32, activation='relu'),\n",
    "    layers.Dense(1, activation='sigmoid')  # Binary output\n",
    "])\n",
    "\n",
    "# 5. Compile with additional metrics\n",
    "model.compile(optimizer='adam',\n",
    "              loss='binary_crossentropy',\n",
    "              metrics=[\n",
    "                  'accuracy',\n",
    "                  tf.keras.metrics.Precision(name='precision'),\n",
    "                  tf.keras.metrics.Recall(name='recall'),\n",
    "                  tf.keras.metrics.AUC(name='auc')\n",
    "              ])\n",
    "\n",
    "# 6. Early stopping\n",
    "early_stop = callbacks.EarlyStopping(monitor='val_loss', patience=20, restore_best_weights=True)\n",
    "\n",
    "# 7. Train the model\n",
    "history = model.fit(X_train, y_train,\n",
    "                    validation_split=0.1,\n",
    "                    epochs=10,\n",
    "                    batch_size=(4096),\n",
    "                    # class_weight=class_weights,\n",
    "                    callbacks=[early_stop],\n",
    "                    verbose=1)\n",
    "\n",
    "# 8. Evaluate\n",
    "loss, acc, prec, rec, auc = model.evaluate(X_test, y_test)\n",
    "print(f\"\\n✅ Test Accuracy: {acc:.4f} | Precision: {prec:.4f} | Recall: {rec:.4f} | AUC: {auc:.4f}\")\n",
    "\n",
    "# 9. Predictions\n",
    "y_pred = (model.predict(X_test) > 0.5).astype(\"int32\")\n",
    "\n",
    "# 10. Full classification report\n",
    "print(\"\\nClassification Report:\\n\")\n",
    "print(classification_report(y_test, y_pred, digits=4))\n"
   ]
  },
  {
   "cell_type": "code",
   "execution_count": 78,
   "metadata": {},
   "outputs": [
    {
     "name": "stderr",
     "output_type": "stream",
     "text": [
      "C:\\Users\\User\\AppData\\Local\\Temp\\ipykernel_8896\\3050752241.py:30: FutureWarning: Downcasting behavior in `replace` is deprecated and will be removed in a future version. To retain the old behavior, explicitly call `result.infer_objects(copy=False)`. To opt-in to the future behavior, set `pd.set_option('future.no_silent_downcasting', True)`\n",
      "  X['family_cancer_history'] = X['family_cancer_history'].replace({'Yes': 1, 'No': 0})\n",
      "C:\\Users\\User\\AppData\\Local\\Temp\\ipykernel_8896\\3050752241.py:31: FutureWarning: Downcasting behavior in `replace` is deprecated and will be removed in a future version. To retain the old behavior, explicitly call `result.infer_objects(copy=False)`. To opt-in to the future behavior, set `pd.set_option('future.no_silent_downcasting', True)`\n",
      "  X['has_other_cancer'] = X['has_other_cancer'].replace({'Yes': 1, 'No': 0})\n",
      "C:\\Users\\User\\AppData\\Local\\Temp\\ipykernel_8896\\3050752241.py:32: FutureWarning: Downcasting behavior in `replace` is deprecated and will be removed in a future version. To retain the old behavior, explicitly call `result.infer_objects(copy=False)`. To opt-in to the future behavior, set `pd.set_option('future.no_silent_downcasting', True)`\n",
      "  X['asthma_diagnosis'] = X['asthma_diagnosis'].replace({'Yes': 1, 'No': 0})\n",
      "C:\\Users\\User\\AppData\\Local\\Temp\\ipykernel_8896\\3050752241.py:33: FutureWarning: Downcasting behavior in `replace` is deprecated and will be removed in a future version. To retain the old behavior, explicitly call `result.infer_objects(copy=False)`. To opt-in to the future behavior, set `pd.set_option('future.no_silent_downcasting', True)`\n",
      "  X['sex'] = X['sex'].replace({'Male': 1, 'Female': 0})\n",
      "C:\\Users\\User\\AppData\\Local\\Temp\\ipykernel_8896\\3050752241.py:36: FutureWarning: Downcasting behavior in `replace` is deprecated and will be removed in a future version. To retain the old behavior, explicitly call `result.infer_objects(copy=False)`. To opt-in to the future behavior, set `pd.set_option('future.no_silent_downcasting', True)`\n",
      "  X['blood_pressure_status'] = X['blood_pressure_status'].replace({\n",
      "C:\\Users\\User\\AppData\\Local\\Temp\\ipykernel_8896\\3050752241.py:44: FutureWarning: Downcasting behavior in `replace` is deprecated and will be removed in a future version. To retain the old behavior, explicitly call `result.infer_objects(copy=False)`. To opt-in to the future behavior, set `pd.set_option('future.no_silent_downcasting', True)`\n",
      "  X['liver_condition'] = X['liver_condition'].replace({\n"
     ]
    }
   ],
   "source": [
    "df_test_transformed = data_pipeline.transform(df_test)"
   ]
  },
  {
   "cell_type": "code",
   "execution_count": 79,
   "metadata": {},
   "outputs": [
    {
     "data": {
      "text/plain": [
       "array([[-9.99441156e-01, -6.10769613e-04, -7.04609872e-01, ...,\n",
       "        -9.98572018e-01, -9.98484147e-01,  9.98484147e-01],\n",
       "       [ 1.00055916e+00, -5.00585395e-01,  1.64443671e-01, ...,\n",
       "         1.00143002e+00, -9.98484147e-01,  9.98484147e-01],\n",
       "       [-9.99441156e-01,  9.93841554e-02, -1.89955849e+00, ...,\n",
       "         1.00143002e+00, -9.98484147e-01,  9.98484147e-01],\n",
       "       ...,\n",
       "       [ 1.00055916e+00, -1.60052957e+00,  1.03349721e+00, ...,\n",
       "        -9.98572018e-01, -9.98484147e-01,  9.98484147e-01],\n",
       "       [-9.99441156e-01, -1.00056002e+00, -4.87346486e-01, ...,\n",
       "         1.00143002e+00,  1.00151815e+00, -1.00151815e+00],\n",
       "       [ 1.00055916e+00,  1.09933341e+00,  9.24865520e-01, ...,\n",
       "         1.00143002e+00, -9.98484147e-01,  9.98484147e-01]])"
      ]
     },
     "execution_count": 79,
     "metadata": {},
     "output_type": "execute_result"
    }
   ],
   "source": [
    "df_test_transformed"
   ]
  },
  {
   "cell_type": "code",
   "execution_count": 89,
   "metadata": {},
   "outputs": [
    {
     "name": "stdout",
     "output_type": "stream",
     "text": [
      "\u001b[1m7813/7813\u001b[0m \u001b[32m━━━━━━━━━━━━━━━━━━━━\u001b[0m\u001b[37m\u001b[0m \u001b[1m7s\u001b[0m 937us/step\n",
      "{0: 232193, 1: 17807}\n"
     ]
    }
   ],
   "source": [
    "y_pred_prob = (model.predict(df_test_transformed)).flatten()\n",
    "y_pred = (y_pred_prob > 0.55).astype(\"int32\") \n",
    "\n",
    "import numpy as np\n",
    "unique, counts = np.unique(y_pred, return_counts=True)\n",
    "print(dict(zip(unique, counts)))\n"
   ]
  },
  {
   "cell_type": "code",
   "execution_count": 86,
   "metadata": {},
   "outputs": [],
   "source": [
    "submission = pd.DataFrame({\n",
    "    'record_id' : df_test['record_id'], \n",
    "    'survival_status' : 0\n",
    "})"
   ]
  },
  {
   "cell_type": "markdown",
   "metadata": {},
   "source": [
    "In the test data : \n",
    "    1 -> 36%\n",
    "    0 -> 64%"
   ]
  },
  {
   "cell_type": "code",
   "execution_count": 87,
   "metadata": {},
   "outputs": [],
   "source": [
    "submission['survival_status'].value_counts()\n",
    "submission.to_csv('submission.csv', index=False)"
   ]
  },
  {
   "cell_type": "code",
   "execution_count": 81,
   "metadata": {},
   "outputs": [],
   "source": [
    "submission = pd.DataFrame({\n",
    "    'record_id' : df_test['record_id'], \n",
    "    'survival_status' : y_pred.flatten()\n",
    "})\n",
    "submission.to_csv('submission.csv', index=False)"
   ]
  },
  {
   "cell_type": "code",
   "execution_count": 82,
   "metadata": {},
   "outputs": [
    {
     "data": {
      "image/png": "[encoded data removed]",
      "text/plain": [
       "<Figure size 1600x800 with 4 Axes>"
      ]
     },
     "metadata": {},
     "output_type": "display_data"
    }
   ],
   "source": [
    "import matplotlib.pyplot as plt\n",
    "\n",
    "plt.figure(figsize=(16, 8))\n",
    "\n",
    "# Accuracy\n",
    "plt.subplot(2, 2, 1)\n",
    "plt.plot(history.history['accuracy'], label='Train')\n",
    "plt.plot(history.history['val_accuracy'], label='Val')\n",
    "plt.title('Accuracy')\n",
    "plt.xlabel('Epochs')\n",
    "plt.ylabel('Accuracy')\n",
    "plt.legend()\n",
    "plt.grid(True)\n",
    "\n",
    "# Precision\n",
    "plt.subplot(2, 2, 2)\n",
    "plt.plot(history.history['precision'], label='Train')\n",
    "plt.plot(history.history['val_precision'], label='Val')\n",
    "plt.title('Precision')\n",
    "plt.xlabel('Epochs')\n",
    "plt.ylabel('Precision')\n",
    "plt.legend()\n",
    "plt.grid(True)\n",
    "\n",
    "# Recall\n",
    "plt.subplot(2, 2, 3)\n",
    "plt.plot(history.history['recall'], label='Train')\n",
    "plt.plot(history.history['val_recall'], label='Val')\n",
    "plt.title('Recall')\n",
    "plt.xlabel('Epochs')\n",
    "plt.ylabel('Recall')\n",
    "plt.legend()\n",
    "plt.grid(True)\n",
    "\n",
    "# AUC\n",
    "plt.subplot(2, 2, 4)\n",
    "plt.plot(history.history['auc'], label='Train')\n",
    "plt.plot(history.history['val_auc'], label='Val')\n",
    "plt.title('AUC')\n",
    "plt.xlabel('Epochs')\n",
    "plt.ylabel('AUC')\n",
    "plt.legend()\n",
    "plt.grid(True)\n",
    "\n",
    "plt.tight_layout()\n",
    "plt.show()"
   ]
  },
  {
   "cell_type": "code",
   "execution_count": null,
   "metadata": {},
   "outputs": [],
   "source": []
  }
 ],
 "metadata": {
  "kaggle": {
   "accelerator": "nvidiaTeslaT4",
   "dataSources": [
    {
     "databundleVersionId": 12900657,
     "sourceId": 103669,
     "sourceType": "competition"
    }
   ],
   "dockerImageVersionId": 31040,
   "isGpuEnabled": true,
   "isInternetEnabled": false,
   "language": "python",
   "sourceType": "notebook"
  },
  "kernelspec": {
   "display_name": "Python 3",
   "language": "python",
   "name": "python3"
  },
  "language_info": {
   "codemirror_mode": {
    "name": "ipython",
    "version": 3
   },
   "file_extension": ".py",
   "mimetype": "text/x-python",
   "name": "python",
   "nbconvert_exporter": "python",
   "pygments_lexer": "ipython3",
   "version": "3.12.2"
  }
 },
 "nbformat": 4,
 "nbformat_minor": 4
}
